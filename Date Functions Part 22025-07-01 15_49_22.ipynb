{
 "cells": [
  {
   "cell_type": "code",
   "execution_count": 0,
   "metadata": {
    "application/vnd.databricks.v1+cell": {
     "cellMetadata": {
      "byteLimit": 2048000,
      "rowLimit": 10000
     },
     "inputWidgets": {},
     "nuid": "ec123f85-508e-473a-ba9c-f97d6136dc7c",
     "showTitle": false,
     "tableResultSettingsMap": {},
     "title": ""
    }
   },
   "outputs": [
    {
     "output_type": "stream",
     "name": "stdout",
     "output_type": "stream",
     "text": [
      "+----------+------+\n|      Date| Sales|\n+----------+------+\n|2024-01-01| 900.0|\n|2024-02-02|1100.0|\n|2024-03-03| 950.0|\n|2024-04-04|1200.0|\n|2024-06-05|1050.0|\n|2024-06-06|1000.0|\n|2024-08-07|1300.0|\n|2024-09-08|1150.0|\n|2024-10-09|1000.0|\n|2024-05-10|1400.0|\n|2024-12-11|1200.0|\n|2024-11-12|1100.0|\n|2024-06-13|1350.0|\n|2024-06-14|1250.0|\n|2024-07-15|1100.0|\n|2024-12-16|1400.0|\n|2024-03-17|1300.0|\n|2024-03-18|1200.0|\n|2024-08-19|1450.0|\n|2024-09-20|1600.0|\n+----------+------+\nonly showing top 20 rows\n"
     ]
    }
   ],
   "source": [
    "data = [\n",
    "    (\"2024-01-01\", 900.00),\n",
    "    (\"2024-02-02\", 1100.00),\n",
    "    (\"2024-03-03\", 950.00),\n",
    "    (\"2024-04-04\", 1200.00),\n",
    "    (\"2024-06-05\", 1050.00),\n",
    "    (\"2024-06-06\", 1000.00),\n",
    "    (\"2024-08-07\", 1300.00),\n",
    "    (\"2024-09-08\", 1150.00),\n",
    "    (\"2024-10-09\", 1000.00),\n",
    "    (\"2024-05-10\", 1400.00),\n",
    "    (\"2024-12-11\", 1200.00),\n",
    "    (\"2024-11-12\", 1100.00),\n",
    "    (\"2024-06-13\", 1350.00),\n",
    "    (\"2024-06-14\", 1250.00),\n",
    "    (\"2024-07-15\", 1100.00),\n",
    "    (\"2024-12-16\", 1400.00),\n",
    "    (\"2024-03-17\", 1300.00),\n",
    "    (\"2024-03-18\", 1200.00),\n",
    "    (\"2024-08-19\", 1450.00),\n",
    "    (\"2024-09-20\", 1600.00),\n",
    "    (\"2025-02-01\", 1300.00),\n",
    "    (\"2025-02-02\", 1500.00),\n",
    "    (\"2025-02-03\", 1200.00),\n",
    "    (\"2025-02-04\", 1700.00),\n",
    "    (\"2025-02-05\", 1600.00),\n",
    "    (\"2025-02-06\", 1800.00),\n",
    "    (\"2025-02-07\", 2000.00),\n",
    "    (\"2025-02-08\", 1900.00),\n",
    "    (\"2025-02-09\", 2100.00),\n",
    "    (\"2025-02-10\", 2200.00),\n",
    "    (\"2025-06-01\", 1000.00),\n",
    "    (\"2025-06-02\", 1200.00),\n",
    "    (\"2025-06-03\", 800.00),\n",
    "    (\"2025-06-04\", 1500.00),\n",
    "    (\"2025-06-05\", 1300.00),\n",
    "    (\"2025-06-06\", 1100.00),\n",
    "    (\"2025-06-07\", 1400.00),\n",
    "    (\"2025-06-08\", 1600.00),\n",
    "    (\"2025-06-09\", 1800.00),\n",
    "    (\"2025-06-10\", 2000.00)\n",
    "]\n",
    "columns = ['Date','Sales']\n",
    "df = spark.createDataFrame(data = data, schema = columns)           \n",
    "df.show()"
   ]
  },
  {
   "cell_type": "code",
   "execution_count": 0,
   "metadata": {
    "application/vnd.databricks.v1+cell": {
     "cellMetadata": {
      "byteLimit": 2048000,
      "rowLimit": 10000
     },
     "inputWidgets": {},
     "nuid": "228a96cc-c077-40b0-8e84-c735582a67de",
     "showTitle": false,
     "tableResultSettingsMap": {},
     "title": ""
    }
   },
   "outputs": [
    {
     "output_type": "stream",
     "name": "stdout",
     "output_type": "stream",
     "text": [
      "+----+---------+\n|year|Sum_sales|\n+----+---------+\n|2024|  24000.0|\n|2025|  31000.0|\n+----+---------+\n\n"
     ]
    }
   ],
   "source": [
    "# group the sum of sales by year\n",
    "from pyspark.sql.functions import *\n",
    "df1 = df.withColumn(\"Year\",year(\"Date\"))\n",
    "df2 = df1.groupBy(\"year\").sum(\"Sales\")\n",
    "df2 = df2.withColumnRenamed(\"sum(Sales)\",\"Sum_sales\")\n",
    "df2.show()"
   ]
  },
  {
   "cell_type": "code",
   "execution_count": 0,
   "metadata": {
    "application/vnd.databricks.v1+cell": {
     "cellMetadata": {
      "byteLimit": 2048000,
      "rowLimit": 10000
     },
     "inputWidgets": {},
     "nuid": "72e296c4-fa1e-48ed-8004-d9968a775b69",
     "showTitle": false,
     "tableResultSettingsMap": {},
     "title": ""
    }
   },
   "outputs": [
    {
     "output_type": "stream",
     "name": "stdout",
     "output_type": "stream",
     "text": [
      "+----+-----+---------+\n|Year|MOnth|Sum_Sales|\n+----+-----+---------+\n|2024|    3|   3450.0|\n|2024|    6|   4650.0|\n|2024|    2|   1100.0|\n|2024|    4|   1200.0|\n|2024|    1|    900.0|\n|2024|    8|   2750.0|\n|2024|    5|   1400.0|\n|2024|    9|   2750.0|\n|2024|   10|   1000.0|\n|2024|   12|   2600.0|\n|2024|    7|   1100.0|\n|2024|   11|   1100.0|\n|2025|    2|  17300.0|\n|2025|    6|  13700.0|\n+----+-----+---------+\n\n"
     ]
    }
   ],
   "source": [
    "# get the sum of sales by month and year of date\n",
    "\n",
    "df1 = df.withColumn(\"Year\",year(\"Date\"))\\\n",
    "        .withColumn(\"MOnth\",month(\"Date\"))\n",
    "df2 = df1.groupBy(\"Year\",\"MOnth\").sum(\"Sales\")        \n",
    "df2 = df2.withColumnRenamed(\"sum(Sales)\",\"Sum_Sales\")\n",
    "df2.show()"
   ]
  },
  {
   "cell_type": "code",
   "execution_count": 0,
   "metadata": {
    "application/vnd.databricks.v1+cell": {
     "cellMetadata": {
      "byteLimit": 2048000,
      "rowLimit": 10000
     },
     "inputWidgets": {},
     "nuid": "51c6f9f2-69d5-4154-b054-f86eb920527b",
     "showTitle": false,
     "tableResultSettingsMap": {},
     "title": ""
    }
   },
   "outputs": [
    {
     "output_type": "stream",
     "name": "stdout",
     "output_type": "stream",
     "text": [
      "+----------+------+-------------------+----------+\n|      Date| Sales|         Year_start|     Today|\n+----------+------+-------------------+----------+\n|2025-02-01|1300.0|2025-01-01 00:00:00|2025-07-01|\n|2025-02-02|1500.0|2025-01-01 00:00:00|2025-07-01|\n|2025-02-03|1200.0|2025-01-01 00:00:00|2025-07-01|\n|2025-02-04|1700.0|2025-01-01 00:00:00|2025-07-01|\n|2025-02-05|1600.0|2025-01-01 00:00:00|2025-07-01|\n|2025-02-06|1800.0|2025-01-01 00:00:00|2025-07-01|\n|2025-02-07|2000.0|2025-01-01 00:00:00|2025-07-01|\n|2025-02-08|1900.0|2025-01-01 00:00:00|2025-07-01|\n|2025-02-09|2100.0|2025-01-01 00:00:00|2025-07-01|\n|2025-02-10|2200.0|2025-01-01 00:00:00|2025-07-01|\n|2025-06-01|1000.0|2025-01-01 00:00:00|2025-07-01|\n|2025-06-02|1200.0|2025-01-01 00:00:00|2025-07-01|\n|2025-06-03| 800.0|2025-01-01 00:00:00|2025-07-01|\n|2025-06-04|1500.0|2025-01-01 00:00:00|2025-07-01|\n|2025-06-05|1300.0|2025-01-01 00:00:00|2025-07-01|\n|2025-06-06|1100.0|2025-01-01 00:00:00|2025-07-01|\n|2025-06-07|1400.0|2025-01-01 00:00:00|2025-07-01|\n|2025-06-08|1600.0|2025-01-01 00:00:00|2025-07-01|\n|2025-06-09|1800.0|2025-01-01 00:00:00|2025-07-01|\n|2025-06-10|2000.0|2025-01-01 00:00:00|2025-07-01|\n+----------+------+-------------------+----------+\n\n"
     ]
    }
   ],
   "source": [
    "#get the YTD sales\n",
    "# Year To Date = Start of the current year to current date\n",
    "df2 = df.withColumn(\"Year_start\",date_trunc('yyyy',current_date()))\\\n",
    "    .withColumn(\"Today\",current_date())\n",
    "df2 = df2.filter(\"Date >= Year_start and Date<= Today\")    \n",
    "df2.show()"
   ]
  },
  {
   "cell_type": "code",
   "execution_count": 0,
   "metadata": {
    "application/vnd.databricks.v1+cell": {
     "cellMetadata": {
      "byteLimit": 2048000,
      "rowLimit": 10000
     },
     "inputWidgets": {},
     "nuid": "6ddc8dd0-f4fa-4c94-acd2-904964e5b3fc",
     "showTitle": false,
     "tableResultSettingsMap": {},
     "title": ""
    }
   },
   "outputs": [
    {
     "output_type": "stream",
     "name": "stdout",
     "output_type": "stream",
     "text": [
      "+----------+------+--------------------+-------------------+\n|      Date| Sales|         CurrentTime|            Add2Hrs|\n+----------+------+--------------------+-------------------+\n|2024-01-01| 900.0|2025-07-01 22:01:...|2025-07-02 00:01:02|\n|2024-02-02|1100.0|2025-07-01 22:01:...|2025-07-02 00:01:02|\n|2024-03-03| 950.0|2025-07-01 22:01:...|2025-07-02 00:01:02|\n|2024-04-04|1200.0|2025-07-01 22:01:...|2025-07-02 00:01:02|\n|2024-06-05|1050.0|2025-07-01 22:01:...|2025-07-02 00:01:02|\n|2024-06-06|1000.0|2025-07-01 22:01:...|2025-07-02 00:01:02|\n|2024-08-07|1300.0|2025-07-01 22:01:...|2025-07-02 00:01:02|\n|2024-09-08|1150.0|2025-07-01 22:01:...|2025-07-02 00:01:02|\n|2024-10-09|1000.0|2025-07-01 22:01:...|2025-07-02 00:01:02|\n|2024-05-10|1400.0|2025-07-01 22:01:...|2025-07-02 00:01:02|\n|2024-12-11|1200.0|2025-07-01 22:01:...|2025-07-02 00:01:02|\n|2024-11-12|1100.0|2025-07-01 22:01:...|2025-07-02 00:01:02|\n|2024-06-13|1350.0|2025-07-01 22:01:...|2025-07-02 00:01:02|\n|2024-06-14|1250.0|2025-07-01 22:01:...|2025-07-02 00:01:02|\n|2024-07-15|1100.0|2025-07-01 22:01:...|2025-07-02 00:01:02|\n|2024-12-16|1400.0|2025-07-01 22:01:...|2025-07-02 00:01:02|\n|2024-03-17|1300.0|2025-07-01 22:01:...|2025-07-02 00:01:02|\n|2024-03-18|1200.0|2025-07-01 22:01:...|2025-07-02 00:01:02|\n|2024-08-19|1450.0|2025-07-01 22:01:...|2025-07-02 00:01:02|\n|2024-09-20|1600.0|2025-07-01 22:01:...|2025-07-02 00:01:02|\n+----------+------+--------------------+-------------------+\nonly showing top 20 rows\n"
     ]
    }
   ],
   "source": [
    "# add 2 hours to the current time\n",
    "df2 = df.withColumn(\"CurrentTime\",current_timestamp())\n",
    "df3 = df2.withColumn(\"Add2Hrs\",from_unixtime(unix_timestamp(col(\"CurrentTime\"))+2 * 3600))\n",
    "df3.show()"
   ]
  },
  {
   "cell_type": "code",
   "execution_count": 0,
   "metadata": {
    "application/vnd.databricks.v1+cell": {
     "cellMetadata": {
      "byteLimit": 2048000,
      "rowLimit": 10000
     },
     "inputWidgets": {},
     "nuid": "cd41ba2f-b1fe-4184-91fb-3e54769e39a9",
     "showTitle": false,
     "tableResultSettingsMap": {},
     "title": ""
    }
   },
   "outputs": [
    {
     "output_type": "stream",
     "name": "stdout",
     "output_type": "stream",
     "text": [
      "+----------+------+--------------------+--------------------+\n|      Date| Sales|         CurrentTime|             ADD2HRS|\n+----------+------+--------------------+--------------------+\n|2024-01-01| 900.0|2025-07-01 22:01:...|2025-07-02 00:31:...|\n|2024-02-02|1100.0|2025-07-01 22:01:...|2025-07-02 00:31:...|\n|2024-03-03| 950.0|2025-07-01 22:01:...|2025-07-02 00:31:...|\n|2024-04-04|1200.0|2025-07-01 22:01:...|2025-07-02 00:31:...|\n|2024-06-05|1050.0|2025-07-01 22:01:...|2025-07-02 00:31:...|\n|2024-06-06|1000.0|2025-07-01 22:01:...|2025-07-02 00:31:...|\n|2024-08-07|1300.0|2025-07-01 22:01:...|2025-07-02 00:31:...|\n|2024-09-08|1150.0|2025-07-01 22:01:...|2025-07-02 00:31:...|\n|2024-10-09|1000.0|2025-07-01 22:01:...|2025-07-02 00:31:...|\n|2024-05-10|1400.0|2025-07-01 22:01:...|2025-07-02 00:31:...|\n|2024-12-11|1200.0|2025-07-01 22:01:...|2025-07-02 00:31:...|\n|2024-11-12|1100.0|2025-07-01 22:01:...|2025-07-02 00:31:...|\n|2024-06-13|1350.0|2025-07-01 22:01:...|2025-07-02 00:31:...|\n|2024-06-14|1250.0|2025-07-01 22:01:...|2025-07-02 00:31:...|\n|2024-07-15|1100.0|2025-07-01 22:01:...|2025-07-02 00:31:...|\n|2024-12-16|1400.0|2025-07-01 22:01:...|2025-07-02 00:31:...|\n|2024-03-17|1300.0|2025-07-01 22:01:...|2025-07-02 00:31:...|\n|2024-03-18|1200.0|2025-07-01 22:01:...|2025-07-02 00:31:...|\n|2024-08-19|1450.0|2025-07-01 22:01:...|2025-07-02 00:31:...|\n|2024-09-20|1600.0|2025-07-01 22:01:...|2025-07-02 00:31:...|\n+----------+------+--------------------+--------------------+\nonly showing top 20 rows\n"
     ]
    }
   ],
   "source": [
    "# add 2 HRS to to the current time\n",
    "df2 = df.withColumn(\"CurrentTime\",current_timestamp())\n",
    "df3 = df2.withColumn(\"ADD2HRS\",expr(\" CurrentTime + INTERVAL 2 Hours + INTERVAL 30 Minutes + INTERVAL 10 seconds\"))\n",
    "df3.show()"
   ]
  },
  {
   "cell_type": "code",
   "execution_count": 0,
   "metadata": {
    "application/vnd.databricks.v1+cell": {
     "cellMetadata": {
      "byteLimit": 2048000,
      "rowLimit": 10000
     },
     "inputWidgets": {},
     "nuid": "1b47a9cd-c517-405b-ac37-1a5447b0816d",
     "showTitle": false,
     "tableResultSettingsMap": {},
     "title": ""
    }
   },
   "outputs": [
    {
     "output_type": "stream",
     "name": "stderr",
     "output_type": "stream",
     "text": [
      "/databricks/python/lib/python3.11/site-packages/pyspark/sql/connect/expressions.py:1017: UserWarning: WARN WindowExpression: No Partition Defined for Window operation! Moving all data to a single partition, this can cause serious performance degradation.\n  warnings.warn(\n"
     ]
    },
    {
     "output_type": "stream",
     "name": "stdout",
     "output_type": "stream",
     "text": [
      "+----+-------+---------+--------------------+\n|Year|  Month|Sum_Sales|Previous_Month_Sales|\n+----+-------+---------+--------------------+\n|2024|   NULL|    900.0|                NULL|\n|2024|  200.0|   1100.0|               900.0|\n|2024| 2350.0|   3450.0|              1100.0|\n|2024|-2250.0|   1200.0|              3450.0|\n|2024|  200.0|   1400.0|              1200.0|\n|2024| 3250.0|   4650.0|              1400.0|\n|2024|-3550.0|   1100.0|              4650.0|\n|2024| 1650.0|   2750.0|              1100.0|\n|2024|    0.0|   2750.0|              2750.0|\n|2024|-1750.0|   1000.0|              2750.0|\n|2024|  100.0|   1100.0|              1000.0|\n|2024| 1500.0|   2600.0|              1100.0|\n|2025|14700.0|  17300.0|              2600.0|\n|2025|-3600.0|  13700.0|             17300.0|\n+----+-------+---------+--------------------+\n\n"
     ]
    }
   ],
   "source": [
    "# Get the sum of sales by month and year of date\n",
    "\n",
    "from pyspark.sql.functions import *\n",
    "from pyspark.sql.window import *\n",
    "\n",
    "df1 = df.withColumn(\"Year\",year(\"Date\"))\\\n",
    "    .withColumn(\"Month\",month(\"Date\"))\n",
    "df2 = df1.groupBy(\"Year\",\"Month\").sum(\"Sales\")    \n",
    "df2 = df2.withColumnRenamed(\"sum(Sales)\",\"Sum_Sales\")\n",
    "df2 = df2.orderBy(\"Year\",\"Month\")\n",
    "window_partition = Window.orderBy(\"Year\",\"Month\")\n",
    "df_m = df2.withColumn(\"Previous_Month_Sales\",lag(\"Sum_Sales\",1).over(window_partition))\n",
    "df_m = df_m.withColumn(\"Month\",df_m.Sum_Sales-df_m.Previous_Month_Sales)\n",
    "df_m.show()"
   ]
  },
  {
   "cell_type": "code",
   "execution_count": 0,
   "metadata": {
    "application/vnd.databricks.v1+cell": {
     "cellMetadata": {
      "byteLimit": 2048000,
      "rowLimit": 10000
     },
     "inputWidgets": {},
     "nuid": "974bdb06-fe15-49a5-a481-481d3eef726c",
     "showTitle": false,
     "tableResultSettingsMap": {},
     "title": ""
    }
   },
   "outputs": [
    {
     "output_type": "stream",
     "name": "stdout",
     "output_type": "stream",
     "text": [
      "+-----+-------+----------+-----+-----------+-----------+-------+\n|CusID|CusName|      Date|Value|   Category|Subcategory|  Sales|\n+-----+-------+----------+-----+-----------+-----------+-------+\n|    3|Chandru|2025-03-04|    L|Electronics|      Phone| 299.99|\n|    2|   Babu|2025-02-02|    F|       Home|  Furniture| 129.99|\n|    1|Aravind|2025-01-02|    B|    Fashion|   Clothing|  59.99|\n|    4|  David|2025-04-01|    M|       Home|  Appliance| 399.99|\n|    5|   Elsa|2025-05-03|    S|Electronics|     Laptop| 999.99|\n|    3|Chandru|2025-03-01|    I|Electronics|     Tablet| 199.99|\n|    2|   Babu|2025-02-01|    E|       Home|  Furniture|  89.99|\n|    1|Aravind|2025-01-01|    A|    Fashion|Accessories|  29.99|\n|    4|  David|2025-04-04|    P|       Home|  Appliance| 499.99|\n|    5|   Elsa|2025-05-01|    Q|Electronics|     Laptop|1099.99|\n|    1|Aravind|2025-01-04|    D|    Fashion|   Clothing|  79.99|\n|    3|Chandru|2025-03-03|    K|Electronics|      Phone| 329.99|\n|    2|   Babu|2025-02-03|    G|       Home|  Furniture| 179.99|\n|    4|  David|2025-04-02|    N|       Home|  Appliance| 299.99|\n|    5|   Elsa|2025-05-02|    R|Electronics|     Laptop|1299.99|\n|    3|Chandru|2025-03-02|    J|Electronics|     Tablet| 249.99|\n|    1|Aravind|2025-01-03|    C|    Fashion|Accessories|  39.99|\n|    4|  David|2025-04-03|    O|       Home|  Appliance| 199.99|\n|    5|   Elsa|2025-05-04|    T|       NULL|     Laptop| 899.99|\n+-----+-------+----------+-----+-----------+-----------+-------+\n\n"
     ]
    }
   ],
   "source": [
    "messy_data = [\n",
    "    (3, 'Chandru', '2025-03-04', 'L', 'Electronics', 'Phone', 299.99),\n",
    "    (2, 'Babu', '2025-02-02', 'F', 'Home', 'Furniture', 129.99),\n",
    "    (1, 'Aravind', '2025-01-02', 'B', 'Fashion', 'Clothing', 59.99),\n",
    "    (4, 'David', '2025-04-01', 'M', 'Home', 'Appliance', 399.99),\n",
    "    (5, 'Elsa', '2025-05-03', 'S', 'Electronics', 'Laptop', 999.99),\n",
    "    (3, 'Chandru', '2025-03-01', 'I', 'Electronics', 'Tablet', 199.99),\n",
    "    (2, 'Babu', '2025-02-01', 'E', 'Home', 'Furniture', 89.99),\n",
    "    (1, 'Aravind', '2025-01-01', 'A', 'Fashion', 'Accessories', 29.99),\n",
    "    (4, 'David', '2025-04-04', 'P', 'Home', 'Appliance', 499.99),\n",
    "    (5, 'Elsa', '2025-05-01', 'Q', 'Electronics', 'Laptop', 1099.99),\n",
    "    (1, 'Aravind', '2025-01-04', 'D', 'Fashion', 'Clothing', 79.99),\n",
    "    (3, 'Chandru', '2025-03-03', 'K', 'Electronics', 'Phone', 329.99),\n",
    "    (2, 'Babu', '2025-02-03', 'G', 'Home', 'Furniture', 179.99),\n",
    "    (4, 'David', '2025-04-02', 'N', 'Home', 'Appliance', 299.99),\n",
    "    (5, 'Elsa', '2025-05-02', 'R', 'Electronics', 'Laptop', 1299.99),\n",
    "    (3, 'Chandru', '2025-03-02', 'J', 'Electronics', 'Tablet', 249.99),\n",
    "    (1, 'Aravind', '2025-01-03', 'C', 'Fashion', 'Accessories', 39.99),\n",
    "    (4, 'David', '2025-04-03', 'O', 'Home', 'Appliance', 199.99),\n",
    "    (5, 'Elsa', '2025-05-04', 'T', None, 'Laptop', 899.99)\n",
    "]\n",
    "\n",
    "# Create DataFrame\n",
    "\n",
    "df = spark.createDataFrame(messy_data,[\"CusID\",\"CusName\",\"Date\",\"Value\",\"Category\",\"Subcategory\",\"Sales\"])\n",
    "df.show()"
   ]
  },
  {
   "cell_type": "code",
   "execution_count": 0,
   "metadata": {
    "application/vnd.databricks.v1+cell": {
     "cellMetadata": {
      "byteLimit": 2048000,
      "rowLimit": 10000
     },
     "inputWidgets": {},
     "nuid": "a28a893f-5961-4242-b478-30456396f03b",
     "showTitle": false,
     "tableResultSettingsMap": {},
     "title": ""
    }
   },
   "outputs": [
    {
     "output_type": "stream",
     "name": "stdout",
     "output_type": "stream",
     "text": [
      "+-----+-------+----------+-----+-----------+-----------+-------+\n|CusID|CusName|      Date|Value|   Category|Subcategory|  Sales|\n+-----+-------+----------+-----+-----------+-----------+-------+\n|    5|   Elsa|2025-05-04|    T|       NULL|     Laptop| 899.99|\n|    5|   Elsa|2025-05-02|    R|Electronics|     Laptop|1299.99|\n|    5|   Elsa|2025-05-01|    Q|Electronics|     Laptop|1099.99|\n|    5|   Elsa|2025-05-03|    S|Electronics|     Laptop| 999.99|\n|    3|Chandru|2025-03-03|    K|Electronics|      Phone| 329.99|\n|    3|Chandru|2025-03-04|    L|Electronics|      Phone| 299.99|\n|    3|Chandru|2025-03-02|    J|Electronics|     Tablet| 249.99|\n|    3|Chandru|2025-03-01|    I|Electronics|     Tablet| 199.99|\n|    1|Aravind|2025-01-04|    D|    Fashion|   Clothing|  79.99|\n|    1|Aravind|2025-01-02|    B|    Fashion|   Clothing|  59.99|\n|    1|Aravind|2025-01-03|    C|    Fashion|Accessories|  39.99|\n|    1|Aravind|2025-01-01|    A|    Fashion|Accessories|  29.99|\n|    4|  David|2025-04-04|    P|       Home|  Appliance| 499.99|\n|    4|  David|2025-04-01|    M|       Home|  Appliance| 399.99|\n|    4|  David|2025-04-02|    N|       Home|  Appliance| 299.99|\n|    4|  David|2025-04-03|    O|       Home|  Appliance| 199.99|\n|    2|   Babu|2025-02-03|    G|       Home|  Furniture| 179.99|\n|    2|   Babu|2025-02-02|    F|       Home|  Furniture| 129.99|\n|    2|   Babu|2025-02-01|    E|       Home|  Furniture|  89.99|\n+-----+-------+----------+-----+-----------+-----------+-------+\n\n"
     ]
    }
   ],
   "source": [
    "#get the data sorted by category ascending order and sales descending order\n",
    "#syntax: datafram.orderBy(col(\"COL1\").asc(),col(\"col2\").desc())\n",
    "from pyspark.sql.functions import *\n",
    "df2 = df.orderBy(col(\"Category\").asc(),col(\"Sales\").desc())\n",
    "df2.show()"
   ]
  },
  {
   "cell_type": "code",
   "execution_count": 0,
   "metadata": {
    "application/vnd.databricks.v1+cell": {
     "cellMetadata": {
      "byteLimit": 2048000,
      "rowLimit": 10000
     },
     "inputWidgets": {},
     "nuid": "527c74f7-37b8-4989-a253-42082ebde9ec",
     "showTitle": false,
     "tableResultSettingsMap": {},
     "title": ""
    }
   },
   "outputs": [
    {
     "output_type": "stream",
     "name": "stdout",
     "output_type": "stream",
     "text": [
      "+-----+-------+----------+-----+-----------+-----------+-------+-------------------+\n|CusID|CusName|      Date|Value|   Category|Subcategory|  Sales|         Year_start|\n+-----+-------+----------+-----+-----------+-----------+-------+-------------------+\n|    3|Chandru|2025-03-04|    L|Electronics|      Phone| 299.99|2025-07-01 00:00:00|\n|    2|   Babu|2025-02-02|    F|       Home|  Furniture| 129.99|2025-07-01 00:00:00|\n|    1|Aravind|2025-01-02|    B|    Fashion|   Clothing|  59.99|2025-07-01 00:00:00|\n|    4|  David|2025-04-01|    M|       Home|  Appliance| 399.99|2025-07-01 00:00:00|\n|    5|   Elsa|2025-05-03|    S|Electronics|     Laptop| 999.99|2025-07-01 00:00:00|\n|    3|Chandru|2025-03-01|    I|Electronics|     Tablet| 199.99|2025-07-01 00:00:00|\n|    2|   Babu|2025-02-01|    E|       Home|  Furniture|  89.99|2025-07-01 00:00:00|\n|    1|Aravind|2025-01-01|    A|    Fashion|Accessories|  29.99|2025-07-01 00:00:00|\n|    4|  David|2025-04-04|    P|       Home|  Appliance| 499.99|2025-07-01 00:00:00|\n|    5|   Elsa|2025-05-01|    Q|Electronics|     Laptop|1099.99|2025-07-01 00:00:00|\n|    1|Aravind|2025-01-04|    D|    Fashion|   Clothing|  79.99|2025-07-01 00:00:00|\n|    3|Chandru|2025-03-03|    K|Electronics|      Phone| 329.99|2025-07-01 00:00:00|\n|    2|   Babu|2025-02-03|    G|       Home|  Furniture| 179.99|2025-07-01 00:00:00|\n|    4|  David|2025-04-02|    N|       Home|  Appliance| 299.99|2025-07-01 00:00:00|\n|    5|   Elsa|2025-05-02|    R|Electronics|     Laptop|1299.99|2025-07-01 00:00:00|\n|    3|Chandru|2025-03-02|    J|Electronics|     Tablet| 249.99|2025-07-01 00:00:00|\n|    1|Aravind|2025-01-03|    C|    Fashion|Accessories|  39.99|2025-07-01 00:00:00|\n|    4|  David|2025-04-03|    O|       Home|  Appliance| 199.99|2025-07-01 00:00:00|\n|    5|   Elsa|2025-05-04|    T|       NULL|     Laptop| 899.99|2025-07-01 00:00:00|\n+-----+-------+----------+-----+-----------+-----------+-------+-------------------+\n\n"
     ]
    }
   ],
   "source": [
    "df2 = df.withColumn(\"Year_start\",date_trunc('mm',current_date()))\n",
    "df2.show()\n",
    "                    "
   ]
  }
 ],
 "metadata": {
  "application/vnd.databricks.v1+notebook": {
   "computePreferences": null,
   "dashboards": [],
   "environmentMetadata": {
    "base_environment": "",
    "environment_version": "2"
   },
   "inputWidgetPreferences": null,
   "language": "python",
   "notebookMetadata": {
    "pythonIndentUnit": 4
   },
   "notebookName": "Date Functions Part 22025-07-01 15:49:22",
   "widgets": {}
  },
  "language_info": {
   "name": "python"
  }
 },
 "nbformat": 4,
 "nbformat_minor": 0
}