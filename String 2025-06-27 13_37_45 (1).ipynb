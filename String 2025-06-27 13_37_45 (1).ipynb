{
 "cells": [
  {
   "cell_type": "markdown",
   "metadata": {
    "application/vnd.databricks.v1+cell": {
     "cellMetadata": {},
     "inputWidgets": {},
     "nuid": "3eaa79b3-63f6-4e68-bb7d-2006d1e4fa99",
     "showTitle": false,
     "tableResultSettingsMap": {},
     "title": ""
    }
   },
   "source": [
    "String Function Practice"
   ]
  },
  {
   "cell_type": "code",
   "execution_count": 0,
   "metadata": {
    "application/vnd.databricks.v1+cell": {
     "cellMetadata": {
      "byteLimit": 2048000,
      "rowLimit": 10000
     },
     "inputWidgets": {},
     "nuid": "17040c66-2445-4194-8d6a-96dc455b5c51",
     "showTitle": false,
     "tableResultSettingsMap": {},
     "title": ""
    }
   },
   "outputs": [
    {
     "output_type": "stream",
     "name": "stdout",
     "output_type": "stream",
     "text": [
      "+---------+----------+-------+-----+-----+\n|firstname|  lastname|country|state|  sal|\n+---------+----------+-------+-----+-----+\n|     raja|pushpa    |    USA|     |30000|\n|    priya|    pushpa|    USA|     |29900|\n|  Karthik|      Subu|    USA|   CA| Null|\n|    James|     Smith|    USA|   FL|20000|\n|   Martin|     Jones|    USA|   CA| 3000|\n|      Sam|  Anderson|     UK|  LND| 8000|\n|    Maria|   Patrick|     UK|  MCR| 7000|\n|    Robet|     Bevon|     UK|  LND| 3500|\n|    Maria|  Anderson|     UK|  MCR| 3000|\n+---------+----------+-------+-----+-----+\n\n"
     ]
    }
   ],
   "source": [
    "from pyspark.sql.types import *\n",
    "staticlist = [(\" raja\", \"pushpa    \", \"USA\",\"\",30000),\n",
    "            (\" priya\", \"pushpa\", \"USA\",\"\",29900),\n",
    "            (\" Karthik\", \"Subu\", \"USA\",\"CA\",\"Null\"),\n",
    "            (\" James\", \"Smith\", \"USA\",\"FL\",20000),\n",
    "            (\"Martin\", \"Jones\", \"USA\",\"CA\",3000),\n",
    "            (\"Sam\", \"Anderson\", \"UK\",\"LND\",8000),\n",
    "            (\"Maria\", \"Patrick\", \"UK\",\"MCR\",7000),\n",
    "            (\"Robet\", \"Bevon\", \"UK\",\"LND\",3500),\n",
    "            (\"Maria\", \"Anderson\", \"UK\",\"MCR\",3000)\n",
    "            ]\n",
    "columns = [\"firstname\",\"lastname\",\"country\",\"state\",\"sal\"]            \n",
    "df = spark.createDataFrame( data = staticlist, schema = columns)\n",
    "df.show()"
   ]
  },
  {
   "cell_type": "code",
   "execution_count": 0,
   "metadata": {
    "application/vnd.databricks.v1+cell": {
     "cellMetadata": {
      "byteLimit": 2048000,
      "rowLimit": 10000
     },
     "inputWidgets": {},
     "nuid": "3180994b-07b4-44f3-ab7b-a67438c2e102",
     "showTitle": false,
     "tableResultSettingsMap": {},
     "title": ""
    }
   },
   "outputs": [
    {
     "output_type": "stream",
     "name": "stdout",
     "output_type": "stream",
     "text": [
      "+---------+----------+-------+-----+-----+--------------+-------------+------------+---------------+-------------+\n|firstname|  lastname|country|state|  sal|     Full_Name|First4letters|Last4letters|3rdpos_4letters|3rddigitrests|\n+---------+----------+-------+-----+-----+--------------+-------------+------------+---------------+-------------+\n|     raja|pushpa    |    USA|     |30000|   Raja Pushpa|         Raja|        shpa|           ja P|    ja Pushpa|\n|    priya|    pushpa|    USA|     |29900|  Priya Pushpa|         Priy|        shpa|           iya |   iya Pushpa|\n|  Karthik|      Subu|    USA|   CA| Null|  Karthik Subu|         Kart|        Subu|           rthi|   rthik Subu|\n|    James|     Smith|    USA|   FL|20000|   James Smith|         Jame|        mith|           mes |    mes Smith|\n|   Martin|     Jones|    USA|   CA| 3000|  Martin Jones|         Mart|        ones|           rtin|   rtin Jones|\n|      Sam|  Anderson|     UK|  LND| 8000|  Sam Anderson|         Sam |        rson|           m An|   m Anderson|\n|    Maria|   Patrick|     UK|  MCR| 7000| Maria Patrick|         Mari|        rick|           ria |  ria Patrick|\n|    Robet|     Bevon|     UK|  LND| 3500|   Robet Bevon|         Robe|        evon|           bet |    bet Bevon|\n|    Maria|  Anderson|     UK|  MCR| 3000|Maria Anderson|         Mari|        rson|           ria | ria Anderson|\n+---------+----------+-------+-----+-----+--------------+-------------+------------+---------------+-------------+\n\n"
     ]
    }
   ],
   "source": [
    "#get the left right and middle values of any given string\n",
    "#syntax: substring(\"\",,)\n",
    "from pyspark.sql.functions import *\n",
    "df_sQL2 = df.withColumn(\"Full_Name\",trim(concat(initcap(\"firstname\"),lit(\" \"),initcap(\"lastname\"))))\n",
    "df_substring = df_sQL2.withColumn(\"First4letters\",substring(\"Full_name\",0,4))\\\n",
    "         .withColumn(\"Last4letters\",substring(\"Full_name\",-4,4))\\\n",
    "         .withColumn(\"3rdpos_4letters\",substring(\"Full_name\",3,4))\\\n",
    "         .withColumn(\"3rddigitrests\",substring(\"Full_name\",3,length(\"Full_name\")))\n",
    "df_substring.show()"
   ]
  },
  {
   "cell_type": "code",
   "execution_count": 0,
   "metadata": {
    "application/vnd.databricks.v1+cell": {
     "cellMetadata": {
      "byteLimit": 2048000,
      "rowLimit": 10000
     },
     "inputWidgets": {},
     "nuid": "5bd6de7a-a450-4dca-a822-2440e6e1bd85",
     "showTitle": false,
     "tableResultSettingsMap": {},
     "title": ""
    }
   },
   "outputs": [
    {
     "output_type": "stream",
     "name": "stdout",
     "output_type": "stream",
     "text": [
      "+---------+----------+-------+-----+-----+--------+\n|firstname|  lastname|country|state|  sal|      TV|\n+---------+----------+-------+-----+-----+--------+\n|     raja|pushpa    |    USA|     |30000|  pushpa|\n|    priya|    pushpa|    USA|     |29900|  pushpa|\n|  Karthik|      Subu|    USA|   CA| Null|    Subu|\n|    James|     Smith|    USA|   FL|20000|   Smith|\n|   Martin|   Jones  |    USA|   CA| 3000|   Jones|\n|      Sam|  Anderson|     UK|  LND| 8000|Anderson|\n|    Maria|   Patrick|     UK|  MCR| 7000| Patrick|\n|    Robet|     Bevon|     UK|  LND| 3500|   Bevon|\n|    Maria|  Anderson|     UK|  MCR| 3000|Anderson|\n+---------+----------+-------+-----+-----+--------+\n\n"
     ]
    }
   ],
   "source": [
    "from pyspark.sql.functions import *\n",
    "\n",
    "df1 = df.withColumn(\"TV\",trim('lastname'))\n",
    "df1.show()"
   ]
  },
  {
   "cell_type": "code",
   "execution_count": 0,
   "metadata": {
    "application/vnd.databricks.v1+cell": {
     "cellMetadata": {
      "byteLimit": 2048000,
      "rowLimit": 10000
     },
     "inputWidgets": {},
     "nuid": "2317039c-12dd-4c35-9254-a87e3c6b59a0",
     "showTitle": false,
     "tableResultSettingsMap": {},
     "title": ""
    }
   },
   "outputs": [
    {
     "output_type": "stream",
     "name": "stdout",
     "output_type": "stream",
     "text": [
      "+---------+----------+-------+-----+-----+--------------+-------------+------------+---------------+-------------+------+\n|firstname|  lastname|country|state|  sal|     Full_Name|First4letters|Last4letters|3rdpos_4letters|3rddigitrests|length|\n+---------+----------+-------+-----+-----+--------------+-------------+------------+---------------+-------------+------+\n|     raja|pushpa    |    USA|     |30000|   Raja Pushpa|         Raja|        shpa|           ja P|    ja Pushpa|    11|\n|    priya|    pushpa|    USA|     |29900|  Priya Pushpa|         Priy|        shpa|           iya |   iya Pushpa|    12|\n|  Karthik|      Subu|    USA|   CA| Null|  Karthik Subu|         Kart|        Subu|           rthi|   rthik Subu|    12|\n|    James|     Smith|    USA|   FL|20000|   James Smith|         Jame|        mith|           mes |    mes Smith|    11|\n|   Martin|   Jones  |    USA|   CA| 3000|  Martin Jones|         Mart|        ones|           rtin|   rtin Jones|    12|\n|      Sam|  Anderson|     UK|  LND| 8000|  Sam Anderson|         Sam |        rson|           m An|   m Anderson|    12|\n|    Maria|   Patrick|     UK|  MCR| 7000| Maria Patrick|         Mari|        rick|           ria |  ria Patrick|    13|\n|    Robet|     Bevon|     UK|  LND| 3500|   Robet Bevon|         Robe|        evon|           bet |    bet Bevon|    11|\n|    Maria|  Anderson|     UK|  MCR| 3000|Maria Anderson|         Mari|        rson|           ria | ria Anderson|    14|\n+---------+----------+-------+-----+-----+--------------+-------------+------------+---------------+-------------+------+\n\nroot\n |-- firstname: string (nullable = true)\n |-- lastname: string (nullable = true)\n |-- country: string (nullable = true)\n |-- state: string (nullable = true)\n |-- sal: string (nullable = true)\n |-- Full_Name: string (nullable = true)\n |-- First4letters: string (nullable = true)\n |-- Last4letters: string (nullable = true)\n |-- 3rdpos_4letters: string (nullable = true)\n |-- 3rddigitrests: string (nullable = true)\n |-- length: integer (nullable = true)\n\n"
     ]
    }
   ],
   "source": [
    "#get the legth of string\n",
    "#len(\"colname\")\n",
    "df_length1 =df_substring.select(df_substring['*'],length(\"Full_Name\").alias(\"length\"))\n",
    "df_length1.show()\n",
    "df_length1.printSchema()"
   ]
  },
  {
   "cell_type": "code",
   "execution_count": 0,
   "metadata": {
    "application/vnd.databricks.v1+cell": {
     "cellMetadata": {
      "byteLimit": 2048000,
      "rowLimit": 10000
     },
     "inputWidgets": {},
     "nuid": "f7d2cd9f-6f76-4324-bac0-3849dc90e986",
     "showTitle": false,
     "tableResultSettingsMap": {},
     "title": ""
    }
   },
   "outputs": [
    {
     "output_type": "stream",
     "name": "stdout",
     "output_type": "stream",
     "text": [
      "+---------+----------+-------+-----+-----+------+\n|firstname|  lastname|country|state|  sal|isNull|\n+---------+----------+-------+-----+-----+------+\n|     raja|pushpa    |    USA|     |30000| false|\n|    priya|    pushpa|    USA|     |29900| false|\n|  Karthik|      Subu|    USA|   CA| Null| false|\n|    James|     Smith|    USA|   FL|20000| false|\n|   Martin|   Jones  |    USA|   CA| 3000| false|\n|      Sam|  Anderson|     UK|  LND| 8000| false|\n|    Maria|   Patrick|     UK|  MCR| 7000| false|\n|    Robet|     Bevon|     UK|  LND| 3500| false|\n|    Maria|  Anderson|     UK|  MCR| 3000| false|\n+---------+----------+-------+-----+-----+------+\n\n"
     ]
    }
   ],
   "source": [
    "#check if the colum is null\n",
    "df5 = df.withColumn(\"isNull\",isnull(\"sal\"))\n",
    "df5.show()"
   ]
  },
  {
   "cell_type": "code",
   "execution_count": 0,
   "metadata": {
    "application/vnd.databricks.v1+cell": {
     "cellMetadata": {
      "byteLimit": 2048000,
      "rowLimit": 10000
     },
     "inputWidgets": {},
     "nuid": "0cd7301c-2a10-4086-bffc-20af344cf587",
     "showTitle": false,
     "tableResultSettingsMap": {},
     "title": ""
    }
   },
   "outputs": [
    {
     "output_type": "stream",
     "name": "stdout",
     "output_type": "stream",
     "text": [
      "+----+-----+-----+--------+\n|col1| col2| col3|coalesce|\n+----+-----+-----+--------+\n|NULL|Kumar|yello|   Kumar|\n| Ram|Kumar| NULL|     Ram|\n|NULL| NULL|  Raj|     Raj|\n+----+-----+-----+--------+\n\n+----+-----+-----+\n|col1| col2| col3|\n+----+-----+-----+\n|NULL|Kumar|yello|\n| Ram|Kumar| NULL|\n|NULL| NULL|  Raj|\n+----+-----+-----+\n\n"
     ]
    }
   ],
   "source": [
    "list1 = [(None,'Kumar','yello'),('Ram','Kumar',None),(None,None,'Raj')]\n",
    "column_names=[\"col1\",\"col2\",\"col3\"]\n",
    "df6 = spark.createDataFrame(data = list1, schema =column_names )\n",
    "df7 = df6.withColumn(\"coalesce\",coalesce(\"col1\",\"col2\",\"col3\"))\n",
    "df7.show()\n",
    "df6.show()"
   ]
  },
  {
   "cell_type": "code",
   "execution_count": 0,
   "metadata": {
    "application/vnd.databricks.v1+cell": {
     "cellMetadata": {},
     "inputWidgets": {},
     "nuid": "a3aedc8e-eb21-4da1-a709-1c6ffa786f13",
     "showTitle": false,
     "tableResultSettingsMap": {},
     "title": ""
    }
   },
   "outputs": [],
   "source": [
    "# https://docs.databricks.com/aws/en/sql/language-manual/functions/coalesce\n"
   ]
  },
  {
   "cell_type": "code",
   "execution_count": 0,
   "metadata": {
    "application/vnd.databricks.v1+cell": {
     "cellMetadata": {
      "byteLimit": 2048000,
      "rowLimit": 10000
     },
     "inputWidgets": {},
     "nuid": "9468d320-6160-486a-8b84-4386c8b2c771",
     "showTitle": false,
     "tableResultSettingsMap": {},
     "title": ""
    }
   },
   "outputs": [
    {
     "output_type": "stream",
     "name": "stdout",
     "output_type": "stream",
     "text": [
      "+---------+----------+-------+-----+-----+--------------+-------------+------------+---------------+-------------+-----------------+\n|firstname|  lastname|country|state|  sal|     Full_Name|First4letters|Last4letters|3rdpos_4letters|3rddigitrests|            split|\n+---------+----------+-------+-----+-----+--------------+-------------+------------+---------------+-------------+-----------------+\n|     raja|pushpa    |    USA|     |30000|   Raja Pushpa|         Raja|        shpa|           ja P|    ja Pushpa|   [Raja, Pushpa]|\n|    priya|    pushpa|    USA|     |29900|  Priya Pushpa|         Priy|        shpa|           iya |   iya Pushpa|  [Priya, Pushpa]|\n|  Karthik|      Subu|    USA|   CA| Null|  Karthik Subu|         Kart|        Subu|           rthi|   rthik Subu|  [Karthik, Subu]|\n|    James|     Smith|    USA|   FL|20000|   James Smith|         Jame|        mith|           mes |    mes Smith|   [James, Smith]|\n|   Martin|     Jones|    USA|   CA| 3000|  Martin Jones|         Mart|        ones|           rtin|   rtin Jones|  [Martin, Jones]|\n|      Sam|  Anderson|     UK|  LND| 8000|  Sam Anderson|         Sam |        rson|           m An|   m Anderson|  [Sam, Anderson]|\n|    Maria|   Patrick|     UK|  MCR| 7000| Maria Patrick|         Mari|        rick|           ria |  ria Patrick| [Maria, Patrick]|\n|    Robet|     Bevon|     UK|  LND| 3500|   Robet Bevon|         Robe|        evon|           bet |    bet Bevon|   [Robet, Bevon]|\n|    Maria|  Anderson|     UK|  MCR| 3000|Maria Anderson|         Mari|        rson|           ria | ria Anderson|[Maria, Anderson]|\n+---------+----------+-------+-----+-----+--------------+-------------+------------+---------------+-------------+-----------------+\n\n"
     ]
    }
   ],
   "source": [
    "df_split = df_substring.withColumn(\"split\",split(\"Full_Name\",\" \",-1))\n",
    "df_split.show()\n"
   ]
  },
  {
   "cell_type": "code",
   "execution_count": 0,
   "metadata": {
    "application/vnd.databricks.v1+cell": {
     "cellMetadata": {
      "byteLimit": 2048000,
      "rowLimit": 10000
     },
     "inputWidgets": {},
     "nuid": "6ae9b4f9-a747-4eb7-8e89-9675758665a1",
     "showTitle": false,
     "tableResultSettingsMap": {},
     "title": ""
    }
   },
   "outputs": [
    {
     "output_type": "stream",
     "name": "stdout",
     "output_type": "stream",
     "text": [
      "+---------+----------+-------+-----+-----+----------------+\n|firstname|  lastname|country|state|  sal|       Full_Name|\n+---------+----------+-------+-----+-----+----------------+\n|     raja|pushpa    |    USA|     |30000| Raja Pushpa    |\n|    priya|    pushpa|    USA|     |29900|    Priya Pushpa|\n|  Karthik|      Subu|    USA|   CA| Null|    Karthik Subu|\n|    James|     Smith|    USA|   FL|20000|     James Smith|\n|   Martin|     Jones|    USA|   CA| 3000|    Martin Jones|\n|      Sam|  Anderson|     UK|  LND| 8000|    Sam Anderson|\n|    Maria|   Patrick|     UK|  MCR| 7000|   Maria Patrick|\n|    Robet|     Bevon|     UK|  LND| 3500|     Robet Bevon|\n|    Maria|  Anderson|     UK|  MCR| 3000|  Maria Anderson|\n+---------+----------+-------+-----+-----+----------------+\n\n+---------+----------+-------+-----+-----+----------------+--------------------+-----------+------------+\n|firstname|  lastname|country|state|  sal|       Full_Name|               split|First_Split|second_Split|\n+---------+----------+-------+-----+-----+----------------+--------------------+-----------+------------+\n|     raja|pushpa    |    USA|     |30000| Raja Pushpa    |[, Raja, Pushpa, ...|           |        Raja|\n|    priya|    pushpa|    USA|     |29900|    Priya Pushpa|   [, Priya, Pushpa]|           |       Priya|\n|  Karthik|      Subu|    USA|   CA| Null|    Karthik Subu|   [, Karthik, Subu]|           |     Karthik|\n|    James|     Smith|    USA|   FL|20000|     James Smith|    [, James, Smith]|           |       James|\n|   Martin|     Jones|    USA|   CA| 3000|    Martin Jones|     [Martin, Jones]|     Martin|       Jones|\n|      Sam|  Anderson|     UK|  LND| 8000|    Sam Anderson|     [Sam, Anderson]|        Sam|    Anderson|\n|    Maria|   Patrick|     UK|  MCR| 7000|   Maria Patrick|    [Maria, Patrick]|      Maria|     Patrick|\n|    Robet|     Bevon|     UK|  LND| 3500|     Robet Bevon|      [Robet, Bevon]|      Robet|       Bevon|\n|    Maria|  Anderson|     UK|  MCR| 3000|  Maria Anderson|   [Maria, Anderson]|      Maria|    Anderson|\n+---------+----------+-------+-----+-----+----------------+--------------------+-----------+------------+\n\n"
     ]
    }
   ],
   "source": [
    "\n",
    "\n",
    "df_concat=df.withColumn(\"Full_Name\",concat(initcap(\"firstname\"),lit(\" \"),initcap(\"lastname\")))\n",
    "df_concat.show()\n",
    "df_mysplit = df_concat.withColumn(\"split\",split(\"Full_Name\",\" \",0))\n",
    "df_split1 = df_mysplit.withColumn(\"First_Split\",df_mysplit.split[0])\\\n",
    "            .withColumn(\"second_Split\",df_mysplit.split[1])\n",
    "df_split1.show()\n",
    "#df_split2=df_mysplit.withColumn(\"split\",split(\"Full_Name\"))"
   ]
  },
  {
   "cell_type": "code",
   "execution_count": 0,
   "metadata": {
    "application/vnd.databricks.v1+cell": {
     "cellMetadata": {
      "byteLimit": 2048000,
      "rowLimit": 10000
     },
     "inputWidgets": {},
     "nuid": "6cfde68b-0c20-4489-adf2-f165bd9ff9f2",
     "showTitle": false,
     "tableResultSettingsMap": {},
     "title": ""
    }
   },
   "outputs": [
    {
     "output_type": "stream",
     "name": "stdout",
     "output_type": "stream",
     "text": [
      "+---------+----------+-------+-----+-----+--------+\n|firstname|  lastname|country|state|  sal|Position|\n+---------+----------+-------+-----+-----+--------+\n|     raja|pushpa    |    USA|     |30000|       3|\n|    priya|    pushpa|    USA|     |29900|       6|\n|  Karthik|      Subu|    USA|   CA| Null|       3|\n|    James|     Smith|    USA|   FL|20000|       3|\n|   Martin|     Jones|    USA|   CA| 3000|       2|\n|      Sam|  Anderson|     UK|  LND| 8000|       2|\n|    Maria|   Patrick|     UK|  MCR| 7000|       2|\n|    Robet|     Bevon|     UK|  LND| 3500|       0|\n|    Maria|  Anderson|     UK|  MCR| 3000|       2|\n+---------+----------+-------+-----+-----+--------+\n\n"
     ]
    }
   ],
   "source": [
    "# find the position of a string\n",
    "# in string function is case sensitive\n",
    "# inst(,\"substring\")\n",
    "\"\"\" Important:\n",
    "It starts counting from 1 (not 0 like Python lists)\n",
    "\n",
    "So:\n",
    "First letter = position 1\n",
    "Second letter = position 2\n",
    "Third letter = position 3\"\"\"\n",
    "df_findPosition = df.withColumn(\"Position\",instr(\"firstname\",\"a\"))\n",
    "df_findPosition.show()"
   ]
  },
  {
   "cell_type": "code",
   "execution_count": 0,
   "metadata": {
    "application/vnd.databricks.v1+cell": {
     "cellMetadata": {},
     "inputWidgets": {},
     "nuid": "5712cf1d-a0a8-4bf2-8b76-063170a49760",
     "showTitle": false,
     "tableResultSettingsMap": {},
     "title": ""
    }
   },
   "outputs": [],
   "source": []
  }
 ],
 "metadata": {
  "application/vnd.databricks.v1+notebook": {
   "computePreferences": null,
   "dashboards": [],
   "environmentMetadata": {
    "base_environment": "",
    "environment_version": "2"
   },
   "inputWidgetPreferences": null,
   "language": "python",
   "notebookMetadata": {
    "pythonIndentUnit": 4
   },
   "notebookName": "String 2025-06-27 13:37:45",
   "widgets": {}
  },
  "language_info": {
   "name": "python"
  }
 },
 "nbformat": 4,
 "nbformat_minor": 0
}